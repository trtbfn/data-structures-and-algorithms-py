{
 "cells": [
  {
   "cell_type": "markdown",
   "id": "90c98ba8-adba-41ef-b969-2334a590bbb0",
   "metadata": {},
   "source": [
    "# Hands-on data structures and algorithms on Python"
   ]
  },
  {
   "cell_type": "markdown",
   "id": "3a92b0d0-4d87-4052-83a4-bd65c4936560",
   "metadata": {},
   "source": [
    "## Counter"
   ]
  },
  {
   "cell_type": "code",
   "execution_count": 4,
   "id": "d7ddf65c-7ddd-42cf-ad29-7566b3fcd861",
   "metadata": {},
   "outputs": [],
   "source": [
    "from collections import Counter"
   ]
  },
  {
   "cell_type": "markdown",
   "id": "420e8fb2-17df-4b51-8fc6-21298a30f586",
   "metadata": {},
   "source": [
    "Counter is subcalss of a dictionar where each dict key is hashable object(*note*: tuple too) and the associated value is an integer count of that object."
   ]
  },
  {
   "cell_type": "markdown",
   "id": "e9c2ec69-a0ed-4f45-b589-1253a62316ae",
   "metadata": {},
   "source": [
    "We can pass in constructor any sequence object."
   ]
  },
  {
   "cell_type": "code",
   "execution_count": 5,
   "id": "30854bf1-81fb-43c2-990d-bd1f3f0b6b80",
   "metadata": {},
   "outputs": [
    {
     "data": {
      "text/plain": [
       "Counter({'I': 1,\n",
       "         \"'\": 1,\n",
       "         'm': 1,\n",
       "         ' ': 2,\n",
       "         'a': 1,\n",
       "         's': 1,\n",
       "         'e': 3,\n",
       "         'q': 1,\n",
       "         'u': 1,\n",
       "         'n': 1,\n",
       "         'c': 1})"
      ]
     },
     "execution_count": 5,
     "metadata": {},
     "output_type": "execute_result"
    }
   ],
   "source": [
    "Counter(\"I'm a sequence\")"
   ]
  },
  {
   "cell_type": "code",
   "execution_count": 7,
   "id": "59adb3dc-c5eb-4399-9669-fafd705f0f48",
   "metadata": {},
   "outputs": [
    {
     "data": {
      "text/plain": [
       "Counter({1: 1, 2: 1, 3: 3, 4: 1})"
      ]
     },
     "execution_count": 7,
     "metadata": {},
     "output_type": "execute_result"
    }
   ],
   "source": [
    "Counter([1,2,3,4,3,3,])"
   ]
  },
  {
   "cell_type": "code",
   "execution_count": 8,
   "id": "af4cae14-7904-4203-b74b-96b74b45fd66",
   "metadata": {},
   "outputs": [
    {
     "data": {
      "text/plain": [
       "Counter({'a': 2, 'y': 1, 'u': 1, 'i': 1})"
      ]
     },
     "execution_count": 8,
     "metadata": {},
     "output_type": "execute_result"
    }
   ],
   "source": [
    "Counter(('a', 'y', 'a', 'u', 'i'))"
   ]
  },
  {
   "cell_type": "markdown",
   "id": "bc6f97be-f8df-4a37-bac5-b135da911acc",
   "metadata": {},
   "source": [
    "We can create empty count object and populate it by passing its update method an iterable or a dictionary."
   ]
  },
  {
   "cell_type": "code",
   "execution_count": 10,
   "id": "7c01b9a5-a848-4e4c-bad0-a5329cfe50ed",
   "metadata": {},
   "outputs": [],
   "source": [
    "ct = Counter('utf8')"
   ]
  },
  {
   "cell_type": "code",
   "execution_count": 11,
   "id": "173cd8db-f06e-4502-b9e8-61fc0b93310e",
   "metadata": {},
   "outputs": [
    {
     "data": {
      "text/plain": [
       "Counter({'u': 1, 't': 1, 'f': 1, '8': 1})"
      ]
     },
     "execution_count": 11,
     "metadata": {},
     "output_type": "execute_result"
    }
   ],
   "source": [
    "ct"
   ]
  },
  {
   "cell_type": "code",
   "execution_count": 14,
   "id": "b5888a0a-a4e2-4d12-adac-e678286e2018",
   "metadata": {},
   "outputs": [],
   "source": [
    "ct.update({'u': 3,'8': 4})"
   ]
  },
  {
   "cell_type": "code",
   "execution_count": 15,
   "id": "596d434f-4683-4b72-aa65-841401021d56",
   "metadata": {},
   "outputs": [
    {
     "data": {
      "text/plain": [
       "Counter({'u': 4, 't': 1, 'f': 1, '8': 5})"
      ]
     },
     "execution_count": 15,
     "metadata": {},
     "output_type": "execute_result"
    }
   ],
   "source": [
    "ct"
   ]
  },
  {
   "cell_type": "markdown",
   "id": "af14f733-62c2-4103-b130-92a123a55dff",
   "metadata": {},
   "source": [
    "We can notice method update add values to previous numbers. "
   ]
  },
  {
   "cell_type": "markdown",
   "id": "03b1be99-edd5-404d-88d1-7855e3f006ad",
   "metadata": {},
   "source": [
    "The most notable difference between counter objects and dictionaries that return a zero count for missing items rather then raising a key error."
   ]
  },
  {
   "cell_type": "markdown",
   "id": "e7aafad5-ec75-45c1-b06a-4a5490785764",
   "metadata": {},
   "source": [
    "Method elements() returns iterator with values. Right order is not guaranteed."
   ]
  },
  {
   "cell_type": "code",
   "execution_count": 19,
   "id": "562eff2b-7d60-491b-a2bb-a82d0645f8ee",
   "metadata": {},
   "outputs": [
    {
     "data": {
      "text/plain": [
       "['u', 'u', 'u', 'u', 't', 'f', '8', '8', '8', '8', '8']"
      ]
     },
     "execution_count": 19,
     "metadata": {},
     "output_type": "execute_result"
    }
   ],
   "source": [
    "list(ct.elements())"
   ]
  },
  {
   "cell_type": "markdown",
   "id": "462aabf4-2c29-43ce-97f4-10e8e5a6818f",
   "metadata": {},
   "source": [
    "Method __most_common__ returns a positive integerdargument thatdetermines the number of most common elements to return. Elements are returned as a list dof (key, value) tuples."
   ]
  },
  {
   "cell_type": "code",
   "execution_count": 20,
   "id": "22959f91-cf10-408f-afe4-0d37b17bd1c9",
   "metadata": {},
   "outputs": [
    {
     "data": {
      "text/plain": [
       "[('8', 5), ('u', 4), ('t', 1), ('f', 1)]"
      ]
     },
     "execution_count": 20,
     "metadata": {},
     "output_type": "execute_result"
    }
   ],
   "source": [
    "ct.most_common()"
   ]
  },
  {
   "cell_type": "markdown",
   "id": "b8fd0bf9-5f54-48d5-b7fd-8a2ea8830c45",
   "metadata": {},
   "source": [
    "Method subtract subtracts passed ditionary."
   ]
  },
  {
   "cell_type": "code",
   "execution_count": 22,
   "id": "890d468b-39ae-4ff6-8634-f9d5e114f90b",
   "metadata": {},
   "outputs": [],
   "source": [
    "ct.subtract({'u': 3})"
   ]
  },
  {
   "cell_type": "code",
   "execution_count": 23,
   "id": "0586e04d-9a47-4f4f-9a52-4720dd3038d0",
   "metadata": {},
   "outputs": [
    {
     "data": {
      "text/plain": [
       "Counter({'u': 1, 't': 1, 'f': 1, '8': 5})"
      ]
     },
     "execution_count": 23,
     "metadata": {},
     "output_type": "execute_result"
    }
   ],
   "source": [
    "ct"
   ]
  },
  {
   "cell_type": "markdown",
   "id": "af00a980-829b-45e0-b6e1-028931149da8",
   "metadata": {},
   "source": [
    "## Ordered dicionaries "
   ]
  },
  {
   "cell_type": "markdown",
   "id": "703fbe7f-d2ef-4481-822b-24c0a1c20227",
   "metadata": {},
   "source": [
    "The important thing about ordered dictionaries is that they remember the insertion order, so when we iterate over them, they return values in the order they were inserted."
   ]
  },
  {
   "cell_type": "code",
   "execution_count": 24,
   "id": "9b97fdac-c5c7-4390-a1d6-aa577bc5e063",
   "metadata": {},
   "outputs": [],
   "source": [
    "from collections import OrderedDict"
   ]
  },
  {
   "cell_type": "code",
   "execution_count": 25,
   "id": "95dfe40b-68f9-4e4f-908e-b73366b0836f",
   "metadata": {},
   "outputs": [],
   "source": [
    "od1 = OrderedDict()"
   ]
  },
  {
   "cell_type": "code",
   "execution_count": 26,
   "id": "2458b507-e3f6-4c60-b218-a89a522b198b",
   "metadata": {},
   "outputs": [],
   "source": [
    "od1['one']=1"
   ]
  },
  {
   "cell_type": "code",
   "execution_count": 28,
   "id": "765b7bd4-b498-4c58-834d-d0454783ecbb",
   "metadata": {},
   "outputs": [],
   "source": [
    "od1['two']=2"
   ]
  },
  {
   "cell_type": "code",
   "execution_count": 29,
   "id": "e05d91be-7bc4-4b48-a72b-425fe0e2476f",
   "metadata": {},
   "outputs": [],
   "source": [
    "od2 = OrderedDict()"
   ]
  },
  {
   "cell_type": "code",
   "execution_count": 30,
   "id": "ea4ea80f-3b40-4b21-ae64-e68cbee0197e",
   "metadata": {},
   "outputs": [],
   "source": [
    "od2['two'] = 2"
   ]
  },
  {
   "cell_type": "code",
   "execution_count": 31,
   "id": "7276e3e0-50de-492e-8d63-ab79d1ea5087",
   "metadata": {},
   "outputs": [],
   "source": [
    "od1['one'] = 1"
   ]
  },
  {
   "cell_type": "code",
   "execution_count": 32,
   "id": "0a2bd89d-fac5-4c71-a475-1ebaf29f17f8",
   "metadata": {},
   "outputs": [
    {
     "data": {
      "text/plain": [
       "False"
      ]
     },
     "execution_count": 32,
     "metadata": {},
     "output_type": "execute_result"
    }
   ],
   "source": [
    "od1 == od2"
   ]
  },
  {
   "cell_type": "markdown",
   "id": "a0b792f5-e6fc-4af2-9a33-84d3479ce27a",
   "metadata": {},
   "source": [
    "Insertion order is different so they aren't equall."
   ]
  },
  {
   "cell_type": "markdown",
   "id": "fb1c5a90-75d5-49fe-af81-788287a8007b",
   "metadata": {},
   "source": [
    "We can add values using method update."
   ]
  },
  {
   "cell_type": "code",
   "execution_count": 33,
   "id": "43a8b6a7-13bf-45f8-9a91-7c4263c69d56",
   "metadata": {},
   "outputs": [],
   "source": [
    "kvs = [('three', 3), ('four', 4), ('five', 5)]"
   ]
  },
  {
   "cell_type": "code",
   "execution_count": 34,
   "id": "1cfb673f-fd5a-4967-b905-8ff15e5368ee",
   "metadata": {},
   "outputs": [],
   "source": [
    "od1.update(kvs)"
   ]
  },
  {
   "cell_type": "code",
   "execution_count": 35,
   "id": "355bce2c-a602-4acf-ab57-d6ca8d792b55",
   "metadata": {},
   "outputs": [
    {
     "name": "stdout",
     "output_type": "stream",
     "text": [
      "one 1\n",
      "two 2\n",
      "three 3\n",
      "four 4\n",
      "five 5\n"
     ]
    }
   ],
   "source": [
    "for k, v in od1.items(): \n",
    "    print(k, v)"
   ]
  },
  {
   "cell_type": "markdown",
   "id": "115fa74d-bf12-4a57-b9df-6e66a6f9fad8",
   "metadata": {},
   "source": [
    "We often use OrderedList with sorted function."
   ]
  },
  {
   "cell_type": "code",
   "execution_count": 37,
   "id": "9a36c7ea-4cb2-4986-91fe-d8f24f8065f6",
   "metadata": {},
   "outputs": [],
   "source": [
    "od3 = OrderedDict(sorted(od1.items(), key=lambda t: (4*t[1]) - t[1]**2))"
   ]
  },
  {
   "cell_type": "code",
   "execution_count": 39,
   "id": "86677d1a-b432-437c-ab8f-fb2a3ac8f5f6",
   "metadata": {},
   "outputs": [
    {
     "data": {
      "text/plain": [
       "odict_values([5, 4, 1, 3, 2])"
      ]
     },
     "execution_count": 39,
     "metadata": {},
     "output_type": "execute_result"
    }
   ],
   "source": [
    "od3.values()"
   ]
  },
  {
   "cell_type": "markdown",
   "id": "cc56d763-5a8c-4625-aaf6-b5c329e0c239",
   "metadata": {},
   "source": [
    "## defaultdict  "
   ]
  },
  {
   "cell_type": "markdown",
   "id": "89fd9022-9af9-4ee7-9a64-162644ee3bfb",
   "metadata": {},
   "source": [
    "With defaultdict, rather then trow an error, it will run the function supplied as default_factory arguemnt, which will generate a value."
   ]
  },
  {
   "cell_type": "code",
   "execution_count": 40,
   "id": "3537d041-909f-4b78-af42-c396c8aba268",
   "metadata": {},
   "outputs": [],
   "source": [
    "from collections import defaultdict"
   ]
  },
  {
   "cell_type": "code",
   "execution_count": 41,
   "id": "e23b05e4-4306-4e02-a894-8d4debcaedd1",
   "metadata": {},
   "outputs": [],
   "source": [
    "dd = defaultdict(int)"
   ]
  },
  {
   "cell_type": "code",
   "execution_count": 42,
   "id": "2b522776-84d1-4a20-92f0-06feb42cde19",
   "metadata": {},
   "outputs": [],
   "source": [
    "words = str.split('red blue green red yellow blue red green green')"
   ]
  },
  {
   "cell_type": "code",
   "execution_count": 43,
   "id": "821ba777-c3ec-4a41-8c16-f9849a40a4ee",
   "metadata": {},
   "outputs": [],
   "source": [
    "for word in words: \n",
    "    dd[word] += 1"
   ]
  },
  {
   "cell_type": "code",
   "execution_count": 44,
   "id": "c131e765-ef6e-4d6f-be77-a7185a02b34a",
   "metadata": {},
   "outputs": [
    {
     "data": {
      "text/plain": [
       "defaultdict(int, {'red': 3, 'blue': 2, 'green': 3, 'yellow': 1})"
      ]
     },
     "execution_count": 44,
     "metadata": {},
     "output_type": "execute_result"
    }
   ],
   "source": [
    "dd"
   ]
  },
  {
   "cell_type": "markdown",
   "id": "c30d8dad-3b7d-4f1b-a4cf-411f4a029de3",
   "metadata": {},
   "source": [
    "## Named tuple "
   ]
  },
  {
   "cell_type": "markdown",
   "id": "20f559d8-2e56-4262-9266-b608a6e7b4ab",
   "metadata": {},
   "source": [
    "The namedtuple returns a tuple-like object that has fields accessible with named indexes. The field names are passed to the namedtuple method as comma and/or whitespace-separated values. They can also be passed as a sequence of strings."
   ]
  },
  {
   "cell_type": "code",
   "execution_count": 46,
   "id": "1b9ef235-2bdb-499e-80d3-e65d03e6ab13",
   "metadata": {},
   "outputs": [],
   "source": [
    "from collections import namedtuple"
   ]
  },
  {
   "cell_type": "code",
   "execution_count": 55,
   "id": "7f0317f8-d2c8-41b1-bbb0-6468dc7bf2ce",
   "metadata": {},
   "outputs": [],
   "source": [
    "space = namedtuple('space', 'x y z')"
   ]
  },
  {
   "cell_type": "code",
   "execution_count": 56,
   "id": "82c1464e-7588-4d9e-8b72-c4da6c574a74",
   "metadata": {},
   "outputs": [],
   "source": [
    "s1 = space(x=2.0, y=3.2, z=10.0)"
   ]
  },
  {
   "cell_type": "code",
   "execution_count": 57,
   "id": "d008ba73-04dc-4ce8-b4c9-d8d7b1f0322e",
   "metadata": {},
   "outputs": [
    {
     "data": {
      "text/plain": [
       "space(x=2.0, y=3.2, z=10.0)"
      ]
     },
     "execution_count": 57,
     "metadata": {},
     "output_type": "execute_result"
    }
   ],
   "source": [
    "s1"
   ]
  },
  {
   "cell_type": "markdown",
   "id": "01788857-62fe-4459-80a7-2855b98c8310",
   "metadata": {},
   "source": [
    "Namedtuple defines own method. They starts with undersocre for preventing for collisions. "
   ]
  },
  {
   "cell_type": "markdown",
   "id": "cc9c7baf-3947-41ad-bc2b-1704a6a0d429",
   "metadata": {},
   "source": [
    "The method _make()j takes an iterable as an argument and turns it into named tuple object. "
   ]
  },
  {
   "cell_type": "code",
   "execution_count": 58,
   "id": "b3d820ed-2999-4b2a-9aa0-e10b56b0427d",
   "metadata": {},
   "outputs": [],
   "source": [
    "s_lst = [3,4,5]"
   ]
  },
  {
   "cell_type": "code",
   "execution_count": 61,
   "id": "c1b36362-b737-445f-ab35-011316922105",
   "metadata": {},
   "outputs": [],
   "source": [
    "s1 = space._make(s_lst)"
   ]
  },
  {
   "cell_type": "code",
   "execution_count": 60,
   "id": "d9784198-a057-47d4-96b8-9810acb2d770",
   "metadata": {},
   "outputs": [
    {
     "data": {
      "text/plain": [
       "[3, 4, 5]"
      ]
     },
     "execution_count": 60,
     "metadata": {},
     "output_type": "execute_result"
    }
   ],
   "source": [
    "s_lst"
   ]
  },
  {
   "cell_type": "code",
   "execution_count": 62,
   "id": "0b32bf62-ad9a-4fbf-87d6-d94006c5652c",
   "metadata": {},
   "outputs": [
    {
     "ename": "AttributeError",
     "evalue": "'space' object has no attribute '_1'",
     "output_type": "error",
     "traceback": [
      "\u001b[1;31m---------------------------------------------------------------------------\u001b[0m",
      "\u001b[1;31mAttributeError\u001b[0m                            Traceback (most recent call last)",
      "Input \u001b[1;32mIn [62]\u001b[0m, in \u001b[0;36m<cell line: 1>\u001b[1;34m()\u001b[0m\n\u001b[1;32m----> 1\u001b[0m \u001b[43ms1\u001b[49m\u001b[38;5;241;43m.\u001b[39;49m\u001b[43m_1\u001b[49m\n",
      "\u001b[1;31mAttributeError\u001b[0m: 'space' object has no attribute '_1'"
     ]
    }
   ],
   "source": [
    "s1._1"
   ]
  },
  {
   "cell_type": "markdown",
   "id": "1df3f77b-d256-44f7-854b-7dd38e7b0b53",
   "metadata": {},
   "source": [
    "The _asdict() method returns an dict object with the field names mapped to index keys and the values mapped to the dicionar values."
   ]
  },
  {
   "cell_type": "code",
   "execution_count": 67,
   "id": "c92a9d73-4b7c-401f-81d0-9138e9fc10e7",
   "metadata": {},
   "outputs": [
    {
     "data": {
      "text/plain": [
       "{'x': 3, 'y': 4, 'z': 5}"
      ]
     },
     "execution_count": 67,
     "metadata": {},
     "output_type": "execute_result"
    }
   ],
   "source": [
    "s1._asdict()"
   ]
  },
  {
   "cell_type": "markdown",
   "id": "ae0a041d-d9c8-4c0a-9cf9-7a805261e26f",
   "metadata": {},
   "source": [
    "The _replace method returns a new instance of instance of the tuple."
   ]
  },
  {
   "cell_type": "code",
   "execution_count": 68,
   "id": "6c787ad8-5871-4a30-97a4-9aa4fbae952d",
   "metadata": {},
   "outputs": [
    {
     "data": {
      "text/plain": [
       "space(x=4, y=83, z=5)"
      ]
     },
     "execution_count": 68,
     "metadata": {},
     "output_type": "execute_result"
    }
   ],
   "source": [
    "s1._replace(x=4, y=83)"
   ]
  },
  {
   "cell_type": "markdown",
   "id": "5099b581-199f-476d-a0c6-dd6eec789e92",
   "metadata": {},
   "source": [
    "_fields returns the tuple of string listing the fields names. The "
   ]
  },
  {
   "cell_type": "code",
   "execution_count": 69,
   "id": "dbcffa0a-d933-4009-8371-a9604afcbc50",
   "metadata": {},
   "outputs": [
    {
     "data": {
      "text/plain": [
       "('x', 'y', 'z')"
      ]
     },
     "execution_count": 69,
     "metadata": {},
     "output_type": "execute_result"
    }
   ],
   "source": [
    "s1._fields"
   ]
  },
  {
   "cell_type": "markdown",
   "id": "30b0b8e2-d10c-4ca5-a7a0-d38fd7e9ca27",
   "metadata": {},
   "source": [
    "_fields_defaults method provides dictionary mapping field names to the default values."
   ]
  },
  {
   "cell_type": "code",
   "execution_count": 73,
   "id": "dbabd41b-246a-4054-9edb-04df6f937886",
   "metadata": {},
   "outputs": [
    {
     "ename": "AttributeError",
     "evalue": "type object 'space' has no attribute '_fields_defaults'",
     "output_type": "error",
     "traceback": [
      "\u001b[1;31m---------------------------------------------------------------------------\u001b[0m",
      "\u001b[1;31mAttributeError\u001b[0m                            Traceback (most recent call last)",
      "Input \u001b[1;32mIn [73]\u001b[0m, in \u001b[0;36m<cell line: 1>\u001b[1;34m()\u001b[0m\n\u001b[1;32m----> 1\u001b[0m \u001b[43mspace\u001b[49m\u001b[38;5;241;43m.\u001b[39;49m\u001b[43m_fields_defaults\u001b[49m\n",
      "\u001b[1;31mAttributeError\u001b[0m: type object 'space' has no attribute '_fields_defaults'"
     ]
    }
   ],
   "source": [
    "space._fields_defaults"
   ]
  },
  {
   "cell_type": "markdown",
   "id": "23d9a96f-a71e-485e-b3e4-5540140b2b6d",
   "metadata": {},
   "source": [
    "## Arrays"
   ]
  },
  {
   "cell_type": "markdown",
   "id": "8c70bac5-9517-4f37-9864-eb2fa023ba9e",
   "metadata": {},
   "source": [
    "They must be single type "
   ]
  },
  {
   "cell_type": "markdown",
   "id": "84f598e0-34c3-41ed-9a5c-642dde96a2a9",
   "metadata": {},
   "source": [
    "Python type - 'b' signedchar, ..."
   ]
  },
  {
   "cell_type": "markdown",
   "id": "fa7f3cd4-f818-4b36-9151-9a326d55d318",
   "metadata": {},
   "source": [
    "Array method you can find in docs. The same with attributes."
   ]
  },
  {
   "cell_type": "code",
   "execution_count": null,
   "id": "0b30c849-2efc-4ec8-b9f6-66833b47065a",
   "metadata": {},
   "outputs": [],
   "source": []
  }
 ],
 "metadata": {
  "kernelspec": {
   "display_name": "Python 3 (ipykernel)",
   "language": "python",
   "name": "python3"
  },
  "language_info": {
   "codemirror_mode": {
    "name": "ipython",
    "version": 3
   },
   "file_extension": ".py",
   "mimetype": "text/x-python",
   "name": "python",
   "nbconvert_exporter": "python",
   "pygments_lexer": "ipython3",
   "version": "3.10.0"
  }
 },
 "nbformat": 4,
 "nbformat_minor": 5
}
