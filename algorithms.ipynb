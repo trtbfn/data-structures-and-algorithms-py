{
 "cells": [
  {
   "cell_type": "markdown",
   "id": "bddc5636-8226-4f1e-b383-421390c6a31c",
   "metadata": {},
   "source": [
    "# Algorithms "
   ]
  },
  {
   "cell_type": "markdown",
   "id": "6295b888-06f2-49e5-a745-214836bc465f",
   "metadata": {},
   "source": [
    "## Algorithms design paradigms"
   ]
  },
  {
   "cell_type": "markdown",
   "id": "53a8e9a9-6a7d-47de-b66c-4d9e911f5174",
   "metadata": {},
   "source": [
    "In general, we can discern three broad approaches to algorithm design.\n",
    "- Divide and conquer\n",
    "- Greedy algorithms\n",
    "- Dynamic programming"
   ]
  },
  {
   "cell_type": "markdown",
   "id": "7110ad88-ed0e-4a2f-9b20-86667ccffc5e",
   "metadata": {},
   "source": [
    "Devide and conquer algorithms:\n",
    "- Binary search\n",
    "- Merge sort\n",
    "- Quick sort\n",
    "- Karatsuba algorithm for fast multiplication \n",
    "- Strassen's matrix multiplication\n",
    "- Closet pair of points"
   ]
  },
  {
   "cell_type": "markdown",
   "id": "8ee6fa5a-7ceb-4610-9976-c7638ded2a81",
   "metadata": {},
   "source": [
    "Greedy algorithms often involve optimization and combinatorial problems. In greedy alogrithms, the objective is to obtain t"
   ]
  }
 ],
 "metadata": {
  "kernelspec": {
   "display_name": "Python 3 (ipykernel)",
   "language": "python",
   "name": "python3"
  },
  "language_info": {
   "codemirror_mode": {
    "name": "ipython",
    "version": 3
   },
   "file_extension": ".py",
   "mimetype": "text/x-python",
   "name": "python",
   "nbconvert_exporter": "python",
   "pygments_lexer": "ipython3",
   "version": "3.10.0"
  }
 },
 "nbformat": 4,
 "nbformat_minor": 5
}
